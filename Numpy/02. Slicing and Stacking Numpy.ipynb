{
 "cells": [
  {
   "cell_type": "code",
   "execution_count": 2,
   "metadata": {},
   "outputs": [],
   "source": [
    "\"\"\"\n",
    "Slicing adalah sebuah teknik untuk mengambil sebagian data dari sebuah list, tuple, atau string.\n",
    "Slicing pada list dan tuple mengembalikan sebuah list atau tuple baru.\n",
    "Sedangkan slicing pada string mengembalikan sebuah string baru.\n",
    "\"\"\"\n",
    "import numpy as np"
   ]
  },
  {
   "cell_type": "markdown",
   "metadata": {},
   "source": [
    "# Slicing"
   ]
  },
  {
   "cell_type": "markdown",
   "metadata": {},
   "source": [
    "## One Dimension"
   ]
  },
  {
   "cell_type": "code",
   "execution_count": 3,
   "metadata": {},
   "outputs": [
    {
     "name": "stdout",
     "output_type": "stream",
     "text": [
      "[1 2 3 4]\n",
      "[7 6]\n",
      "(8,)\n"
     ]
    }
   ],
   "source": [
    "# 1. Slicing List\n",
    "# Slicing list dilakukan dengan menggunakan operator :\n",
    "# [start:stop:step]\n",
    "# start = index awal\n",
    "# stop = index akhir (tidak inclusive)\n",
    "# step = jarak antar index\n",
    "# start, stop, dan step bersifat opsional\n",
    "# jika tidak diberikan nilai, maka:\n",
    "# start = 0\n",
    "# stop = len(list)\n",
    "# step = 1\n",
    "\n",
    "arr = np.array([1, 2, 3, 4, 5, 6, 7, 8])\n",
    "print(arr[0:4])  # [1 2 3 4]\n",
    "print(arr[-2:4:-1])  # []\n",
    "#penjelasan:\n",
    "# -1 adalah index terakhir\n",
    "# 4 adalah index ke 4\n",
    "\n",
    "print(arr.shape)"
   ]
  },
  {
   "cell_type": "markdown",
   "metadata": {},
   "source": [
    "## Two Dimension"
   ]
  },
  {
   "cell_type": "code",
   "execution_count": 4,
   "metadata": {},
   "outputs": [
    {
     "name": "stdout",
     "output_type": "stream",
     "text": [
      "[[1 2]\n",
      " [5 6]]\n",
      "[4 8]\n"
     ]
    }
   ],
   "source": [
    "arr = np.array(\n",
    "    [\n",
    "        [1, 2, 3, 4],\n",
    "        [5, 6, 7, 8]\n",
    "    ]\n",
    ")\n",
    "print(arr[0:2, 0:2])  # [[1 2] [5 6]]\n",
    "#penjelasan:\n",
    "# 0:2 -> mengambil baris 0 dan 1\n",
    "# 0:2 -> mengambil kolom 0 dan 1\n",
    "\n",
    "arr = np.array(\n",
    "    [\n",
    "        [1, 2, 3, 4],\n",
    "        [5, 6, 7, 8]\n",
    "    ]\n",
    ")\n",
    "print(arr[0:2,3])\n",
    "#penjelasan:\n",
    "# 0:2 -> mengambil baris 0 dan 1\n",
    "# 3 -> mengambil kolom 3\n"
   ]
  },
  {
   "cell_type": "markdown",
   "metadata": {},
   "source": [
    "## Three Dimension"
   ]
  },
  {
   "cell_type": "code",
   "execution_count": 5,
   "metadata": {},
   "outputs": [
    {
     "name": "stdout",
     "output_type": "stream",
     "text": [
      "[[1 2]\n",
      " [5 6]]\n",
      "\n",
      "[1 2 3 4]\n",
      "[5 6 7 8]\n",
      "[ 9 10 11 12]\n",
      "\n",
      "1\n",
      "2\n",
      "3\n",
      "4\n",
      "5\n",
      "6\n",
      "7\n",
      "8\n",
      "9\n",
      "10\n",
      "11\n",
      "12\n"
     ]
    }
   ],
   "source": [
    "arr = np.array(\n",
    "    [\n",
    "        [1, 2, 3, 4],\n",
    "        [5, 6, 7, 8],\n",
    "        [9,10,11,12]\n",
    "    ]\n",
    ")\n",
    "print(arr[0:2,0:2])\n",
    "print()\n",
    "for row in arr:\n",
    "    print(row)\n",
    "print()\n",
    "for cell in arr.flat: #mengubah menjadi 1 dimensi\n",
    "    print(cell)"
   ]
  },
  {
   "cell_type": "markdown",
   "metadata": {},
   "source": [
    "# Stacking"
   ]
  },
  {
   "cell_type": "code",
   "execution_count": 6,
   "metadata": {},
   "outputs": [
    {
     "name": "stdout",
     "output_type": "stream",
     "text": [
      "[[ 1  2  3  4  5]\n",
      " [ 6  7  8  9 10]]\n",
      "[[11 12 13 14 15]\n",
      " [16 17 18 19 20]]\n"
     ]
    }
   ],
   "source": [
    "\"\"\"\n",
    "Stacking adalah sebuah teknik untuk menggabungkan beberapa array menjadi satu array baru.\n",
    "\"\"\"\n",
    "# 2. Stacking Array\n",
    "# Stacking array dilakukan dengan menggunakan function np.vstack() dan np.hstack()\n",
    "# np.vstack() digunakan untuk stacking secara vertikal\n",
    "# np.hstack() digunakan untuk stacking secara horizontal\n",
    "\n",
    "a = np.arange(1, 11).reshape(2, 5)\n",
    "b = np.arange(11, 21).reshape(2, 5)\n",
    "print(a)\n",
    "print(b)"
   ]
  },
  {
   "cell_type": "markdown",
   "metadata": {},
   "source": [
    "## Using vstack"
   ]
  },
  {
   "cell_type": "code",
   "execution_count": 7,
   "metadata": {},
   "outputs": [
    {
     "name": "stdout",
     "output_type": "stream",
     "text": [
      "[[ 1  2  3  4  5]\n",
      " [ 6  7  8  9 10]\n",
      " [11 12 13 14 15]\n",
      " [16 17 18 19 20]]\n"
     ]
    }
   ],
   "source": [
    "c = np.vstack((a, b))\n",
    "print(c)"
   ]
  },
  {
   "cell_type": "markdown",
   "metadata": {},
   "source": [
    "## Using hstack"
   ]
  },
  {
   "cell_type": "code",
   "execution_count": 8,
   "metadata": {},
   "outputs": [
    {
     "name": "stdout",
     "output_type": "stream",
     "text": [
      "[[ 1  2  3  4  5 11 12 13 14 15]\n",
      " [ 6  7  8  9 10 16 17 18 19 20]]\n"
     ]
    }
   ],
   "source": [
    "d = np.hstack((a, b))\n",
    "print(d)"
   ]
  },
  {
   "cell_type": "markdown",
   "metadata": {},
   "source": [
    "# Splitting"
   ]
  },
  {
   "cell_type": "code",
   "execution_count": 9,
   "metadata": {},
   "outputs": [
    {
     "name": "stdout",
     "output_type": "stream",
     "text": [
      "[[ 1  2  3  4  5]\n",
      " [ 6  7  8  9 10]\n",
      " [11 12 13 14 15]\n",
      " [16 17 18 19 20]\n",
      " [21 22 23 24 25]]\n"
     ]
    }
   ],
   "source": [
    "\"\"\"\n",
    "Splitting adalah sebuah teknik untuk memisahkan \n",
    "sebuah array menjadi beberapa array yang lebih kecil.\n",
    "\"\"\"\n",
    "# 3. Splitting Array\n",
    "# Splitting array dilakukan dengan menggunakan function np.hsplit() dan np.vsplit()\n",
    "# np.hsplit() digunakan untuk splitting secara horizontal\n",
    "# np.vsplit() digunakan untuk splitting secara vertikal \n",
    "\n",
    "a = np.arange(1, 26).reshape(5, 5)\n",
    "print(a)"
   ]
  },
  {
   "cell_type": "markdown",
   "metadata": {},
   "source": [
    "## Using vsplit and hsplit"
   ]
  },
  {
   "cell_type": "code",
   "execution_count": 13,
   "metadata": {},
   "outputs": [
    {
     "name": "stdout",
     "output_type": "stream",
     "text": [
      "[[ 1]\n",
      " [ 6]\n",
      " [11]\n",
      " [16]\n",
      " [21]]\n",
      "[[ 2]\n",
      " [ 7]\n",
      " [12]\n",
      " [17]\n",
      " [22]]\n",
      "[[ 3]\n",
      " [ 8]\n",
      " [13]\n",
      " [18]\n",
      " [23]]\n",
      "[[ 4]\n",
      " [ 9]\n",
      " [14]\n",
      " [19]\n",
      " [24]]\n",
      "[[ 5]\n",
      " [10]\n",
      " [15]\n",
      " [20]\n",
      " [25]]\n",
      "[[1 2 3 4 5]]\n",
      "[[ 6  7  8  9 10]]\n",
      "[[11 12 13 14 15]]\n",
      "[[16 17 18 19 20]]\n"
     ]
    }
   ],
   "source": [
    "c,d,e,f,g = np.hsplit(a, 5) #membagi menjadi 5 bagian kolom\n",
    "print(c)\n",
    "print(d)\n",
    "print(e)\n",
    "print(f)\n",
    "print(g)\n",
    "c,d,e,f,g = np.vsplit(a, 5) #membagi menjadi 5 bagian baris\n",
    "print(c)\n",
    "print(d)\n",
    "print(e)\n",
    "print(f)\n"
   ]
  },
  {
   "cell_type": "markdown",
   "metadata": {},
   "source": [
    "# Indexing with bolean"
   ]
  },
  {
   "cell_type": "code",
   "execution_count": 14,
   "metadata": {},
   "outputs": [
    {
     "name": "stdout",
     "output_type": "stream",
     "text": [
      "[[ 1  2  3  4  5]\n",
      " [ 6  7  8  9 10]\n",
      " [11 12 13 14 15]\n",
      " [16 17 18 19 20]\n",
      " [21 22 23 24 25]]\n"
     ]
    }
   ],
   "source": [
    "a = np.arange(1, 26).reshape(5, 5)\n",
    "print(a)"
   ]
  },
  {
   "cell_type": "code",
   "execution_count": 18,
   "metadata": {},
   "outputs": [],
   "source": [
    "b = a > 10"
   ]
  },
  {
   "cell_type": "code",
   "execution_count": 19,
   "metadata": {},
   "outputs": [
    {
     "data": {
      "text/plain": [
       "array([11, 12, 13, 14, 15, 16, 17, 18, 19, 20, 21, 22, 23, 24, 25])"
      ]
     },
     "execution_count": 19,
     "metadata": {},
     "output_type": "execute_result"
    }
   ],
   "source": [
    "a[b]"
   ]
  },
  {
   "cell_type": "code",
   "execution_count": 21,
   "metadata": {},
   "outputs": [
    {
     "name": "stdout",
     "output_type": "stream",
     "text": [
      "[[  1   2   3   4   5]\n",
      " [  6   7   8   9  10]\n",
      " [100 100 100 100 100]\n",
      " [100 100 100 100 100]\n",
      " [100 100 100 100 100]]\n"
     ]
    }
   ],
   "source": [
    "a[b] = 100\n",
    "print(a)"
   ]
  }
 ],
 "metadata": {
  "kernelspec": {
   "display_name": "Python 3",
   "language": "python",
   "name": "python3"
  },
  "language_info": {
   "codemirror_mode": {
    "name": "ipython",
    "version": 3
   },
   "file_extension": ".py",
   "mimetype": "text/x-python",
   "name": "python",
   "nbconvert_exporter": "python",
   "pygments_lexer": "ipython3",
   "version": "3.12.0"
  }
 },
 "nbformat": 4,
 "nbformat_minor": 2
}
