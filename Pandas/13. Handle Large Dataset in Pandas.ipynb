{
 "cells": [
  {
   "cell_type": "code",
   "execution_count": 1,
   "metadata": {},
   "outputs": [],
   "source": [
    "import pandas as pd"
   ]
  },
  {
   "cell_type": "markdown",
   "metadata": {},
   "source": [
    "## 01. Don't Load All Columns"
   ]
  },
  {
   "cell_type": "code",
   "execution_count": 5,
   "metadata": {},
   "outputs": [
    {
     "name": "stdout",
     "output_type": "stream",
     "text": [
      "Index(['Table', 'Field', 'Description'], dtype='object')\n",
      "<class 'pandas.core.frame.DataFrame'>\n",
      "RangeIndex: 14 entries, 0 to 13\n",
      "Columns: 3 entries, Table to Description\n",
      "dtypes: object(3)\n",
      "memory usage: 3.6 KB\n"
     ]
    },
    {
     "data": {
      "text/html": [
       "<div>\n",
       "<style scoped>\n",
       "    .dataframe tbody tr th:only-of-type {\n",
       "        vertical-align: middle;\n",
       "    }\n",
       "\n",
       "    .dataframe tbody tr th {\n",
       "        vertical-align: top;\n",
       "    }\n",
       "\n",
       "    .dataframe thead th {\n",
       "        text-align: right;\n",
       "    }\n",
       "</style>\n",
       "<table border=\"1\" class=\"dataframe\">\n",
       "  <thead>\n",
       "    <tr style=\"text-align: right;\">\n",
       "      <th></th>\n",
       "      <th>Table</th>\n",
       "      <th>Field</th>\n",
       "      <th>Description</th>\n",
       "    </tr>\n",
       "  </thead>\n",
       "  <tbody>\n",
       "    <tr>\n",
       "      <th>0</th>\n",
       "      <td>Greenhouse gas emissions</td>\n",
       "      <td>Fiscal Year</td>\n",
       "      <td>Apple's fiscal calendar starts on the last Sun...</td>\n",
       "    </tr>\n",
       "    <tr>\n",
       "      <th>1</th>\n",
       "      <td>Greenhouse gas emissions</td>\n",
       "      <td>Category</td>\n",
       "      <td>Emissions are divided into two categories: cor...</td>\n",
       "    </tr>\n",
       "    <tr>\n",
       "      <th>2</th>\n",
       "      <td>Greenhouse gas emissions</td>\n",
       "      <td>Type</td>\n",
       "      <td>There are two types of emissions data included...</td>\n",
       "    </tr>\n",
       "    <tr>\n",
       "      <th>3</th>\n",
       "      <td>Greenhouse gas emissions</td>\n",
       "      <td>Scope</td>\n",
       "      <td>There are three scopes: direct scope 1 emissio...</td>\n",
       "    </tr>\n",
       "    <tr>\n",
       "      <th>4</th>\n",
       "      <td>Greenhouse gas emissions</td>\n",
       "      <td>Description</td>\n",
       "      <td>The source of the greenhouse gas emissions</td>\n",
       "    </tr>\n",
       "    <tr>\n",
       "      <th>5</th>\n",
       "      <td>Greenhouse gas emissions</td>\n",
       "      <td>Emissions</td>\n",
       "      <td>Greenhouse gas emissions (metric tons CO2e)</td>\n",
       "    </tr>\n",
       "    <tr>\n",
       "      <th>6</th>\n",
       "      <td>Carbon footprint by product</td>\n",
       "      <td>Release Year</td>\n",
       "      <td>Year the product was released</td>\n",
       "    </tr>\n",
       "    <tr>\n",
       "      <th>7</th>\n",
       "      <td>Carbon footprint by product</td>\n",
       "      <td>Product</td>\n",
       "      <td>Product name</td>\n",
       "    </tr>\n",
       "    <tr>\n",
       "      <th>8</th>\n",
       "      <td>Carbon footprint by product</td>\n",
       "      <td>Baseline Storage</td>\n",
       "      <td>Lowest storage option</td>\n",
       "    </tr>\n",
       "    <tr>\n",
       "      <th>9</th>\n",
       "      <td>Carbon footprint by product</td>\n",
       "      <td>Carbon Footprint</td>\n",
       "      <td>Greenhouse gas emissions from the product lige...</td>\n",
       "    </tr>\n",
       "    <tr>\n",
       "      <th>10</th>\n",
       "      <td>Normalizing factors</td>\n",
       "      <td>Fiscal Year</td>\n",
       "      <td>Figures are as of the end of the fiscal year</td>\n",
       "    </tr>\n",
       "    <tr>\n",
       "      <th>11</th>\n",
       "      <td>Normalizing factors</td>\n",
       "      <td>Revenue</td>\n",
       "      <td>Net sales (in millions, US$)</td>\n",
       "    </tr>\n",
       "    <tr>\n",
       "      <th>12</th>\n",
       "      <td>Normalizing factors</td>\n",
       "      <td>Market Capitalization</td>\n",
       "      <td>Value of the company (in billions, US$)</td>\n",
       "    </tr>\n",
       "    <tr>\n",
       "      <th>13</th>\n",
       "      <td>Normalizing factors</td>\n",
       "      <td>Employees</td>\n",
       "      <td>Number of full-time equivalent employees</td>\n",
       "    </tr>\n",
       "  </tbody>\n",
       "</table>\n",
       "</div>"
      ],
      "text/plain": [
       "                          Table                  Field  \\\n",
       "0      Greenhouse gas emissions            Fiscal Year   \n",
       "1      Greenhouse gas emissions               Category   \n",
       "2      Greenhouse gas emissions                   Type   \n",
       "3      Greenhouse gas emissions                  Scope   \n",
       "4      Greenhouse gas emissions            Description   \n",
       "5      Greenhouse gas emissions              Emissions   \n",
       "6   Carbon footprint by product           Release Year   \n",
       "7   Carbon footprint by product                Product   \n",
       "8   Carbon footprint by product       Baseline Storage   \n",
       "9   Carbon footprint by product       Carbon Footprint   \n",
       "10          Normalizing factors            Fiscal Year   \n",
       "11          Normalizing factors                Revenue   \n",
       "12          Normalizing factors  Market Capitalization   \n",
       "13          Normalizing factors              Employees   \n",
       "\n",
       "                                          Description  \n",
       "0   Apple's fiscal calendar starts on the last Sun...  \n",
       "1   Emissions are divided into two categories: cor...  \n",
       "2   There are two types of emissions data included...  \n",
       "3   There are three scopes: direct scope 1 emissio...  \n",
       "4          The source of the greenhouse gas emissions  \n",
       "5         Greenhouse gas emissions (metric tons CO2e)  \n",
       "6                       Year the product was released  \n",
       "7                                        Product name  \n",
       "8                               Lowest storage option  \n",
       "9   Greenhouse gas emissions from the product lige...  \n",
       "10       Figures are as of the end of the fiscal year  \n",
       "11                       Net sales (in millions, US$)  \n",
       "12            Value of the company (in billions, US$)  \n",
       "13           Number of full-time equivalent employees  "
      ]
     },
     "execution_count": 5,
     "metadata": {},
     "output_type": "execute_result"
    }
   ],
   "source": [
    "data = pd.read_csv(\"Example Dataset/data_dictionary.csv\")\n",
    "print(data.columns)\n",
    "data.info(verbose=False,memory_usage=\"deep\") #memory_usage digunakan untuk melihat penggunaan memori, verbose=False digunakan untuk menghilangkan informasi yang tidak diperlukan\n",
    "data"
   ]
  },
  {
   "cell_type": "code",
   "execution_count": 4,
   "metadata": {},
   "outputs": [
    {
     "name": "stdout",
     "output_type": "stream",
     "text": [
      "<class 'pandas.core.frame.DataFrame'>\n",
      "RangeIndex: 14 entries, 0 to 13\n",
      "Columns: 2 entries, Table to Description\n",
      "dtypes: object(2)\n",
      "memory usage: 2.8 KB\n"
     ]
    }
   ],
   "source": [
    "if 'Table' in data.columns:\n",
    "    data = data[['Table','Description']]\n",
    "    data.info(verbose=False,memory_usage=\"deep\")\n",
    "else:\n",
    "    print(\"Column 'Variable' does not exist in the dataframe.\")\n"
   ]
  },
  {
   "cell_type": "markdown",
   "metadata": {},
   "source": [
    "## 02. Change dtype Numerical"
   ]
  },
  {
   "cell_type": "code",
   "execution_count": 13,
   "metadata": {},
   "outputs": [
    {
     "name": "stdout",
     "output_type": "stream",
     "text": [
      "82\n",
      "<class 'numpy.int64'>\n",
      "72\n"
     ]
    }
   ],
   "source": [
    "data = pd.read_csv(\"./Example Dataset/weather.csv\")\n",
    "print(data[\"temperature\"].max())    \n",
    "print(type(data[\"temperature\"].max()))\n",
    "print(data[\"temperature\"].memory_usage(deep=True, index=False))"
   ]
  },
  {
   "cell_type": "code",
   "execution_count": 14,
   "metadata": {},
   "outputs": [
    {
     "name": "stdout",
     "output_type": "stream",
     "text": [
      "82\n",
      "<class 'numpy.int32'>\n",
      "36\n"
     ]
    }
   ],
   "source": [
    "data[\"temperature\"] = data[\"temperature\"].astype(\"int32\")\n",
    "print(data[\"temperature\"].max())\n",
    "print(type(data[\"temperature\"].max()))\n",
    "print(data[\"temperature\"].memory_usage(deep=True, index=False))"
   ]
  }
 ],
 "metadata": {
  "kernelspec": {
   "display_name": "Python 3",
   "language": "python",
   "name": "python3"
  },
  "language_info": {
   "codemirror_mode": {
    "name": "ipython",
    "version": 3
   },
   "file_extension": ".py",
   "mimetype": "text/x-python",
   "name": "python",
   "nbconvert_exporter": "python",
   "pygments_lexer": "ipython3",
   "version": "3.12.0"
  }
 },
 "nbformat": 4,
 "nbformat_minor": 2
}
