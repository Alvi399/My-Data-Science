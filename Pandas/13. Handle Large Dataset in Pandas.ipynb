{
 "cells": [
  {
   "cell_type": "code",
   "execution_count": 1,
   "metadata": {},
   "outputs": [],
   "source": [
    "import pandas as pd"
   ]
  },
  {
   "cell_type": "markdown",
   "metadata": {},
   "source": [
    "## 1. Don't Load All Columns"
   ]
  },
  {
   "cell_type": "code",
   "execution_count": 3,
   "metadata": {},
   "outputs": [
    {
     "name": "stdout",
     "output_type": "stream",
     "text": [
      "<class 'pandas.core.frame.DataFrame'>\n",
      "RangeIndex: 14 entries, 0 to 13\n",
      "Columns: 3 entries, Table to Description\n",
      "dtypes: object(3)\n",
      "memory usage: 3.6 KB\n"
     ]
    }
   ],
   "source": [
    "data = pd.read_csv(\"Example Dataset/data_dictionary.csv\")\n",
    "data.info(verbose=False,memory_usage=\"deep\") #memory_usage digunakan untuk melihat penggunaan memori, verbose=False digunakan untuk menghilangkan informasi yang tidak diperlukan\n"
   ]
  },
  {
   "cell_type": "code",
   "execution_count": 6,
   "metadata": {},
   "outputs": [
    {
     "name": "stdout",
     "output_type": "stream",
     "text": [
      "Column 'Variable' does not exist in the dataframe.\n"
     ]
    }
   ],
   "source": [
    "if 'Variable' in data.columns:\n",
    "    data = data[['Variable','Description']]\n",
    "    data.info(verbose=False,memory_usage=\"deep\")\n",
    "else:\n",
    "    print(\"Column 'Variable' does not exist in the dataframe.\")\n"
   ]
  }
 ],
 "metadata": {
  "kernelspec": {
   "display_name": "Python 3",
   "language": "python",
   "name": "python3"
  },
  "language_info": {
   "codemirror_mode": {
    "name": "ipython",
    "version": 3
   },
   "file_extension": ".py",
   "mimetype": "text/x-python",
   "name": "python",
   "nbconvert_exporter": "python",
   "pygments_lexer": "ipython3",
   "version": "3.12.0"
  }
 },
 "nbformat": 4,
 "nbformat_minor": 2
}
