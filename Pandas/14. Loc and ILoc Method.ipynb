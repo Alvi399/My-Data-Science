{
 "cells": [
  {
   "cell_type": "code",
   "execution_count": 1,
   "metadata": {},
   "outputs": [],
   "source": [
    "\"\"\"\n",
    "Loc dalam pandas meruju pada baris dan kolom dalam dataframe\n",
    "Iloc adalah index location yang merujuk pada index baris dan kolom dalam dataframe\n",
    "\"\"\"\n",
    "import pandas as pd\n",
    "import numpy as np"
   ]
  },
  {
   "cell_type": "code",
   "execution_count": 2,
   "metadata": {},
   "outputs": [
    {
     "name": "stdout",
     "output_type": "stream",
     "text": [
      "       col1      col2\n",
      "0 -0.706402 -1.470064\n",
      "1  0.106894  0.864381\n",
      "2 -0.146991  1.161203\n",
      "3 -0.497336  0.069673\n"
     ]
    }
   ],
   "source": [
    "# Buat dataframe\n",
    "df = pd.DataFrame(np.random.randn(4, 2), columns=['col1', 'col2'])\n",
    "print(df)"
   ]
  },
  {
   "cell_type": "markdown",
   "metadata": {},
   "source": [
    "## Using Iloc"
   ]
  },
  {
   "cell_type": "code",
   "execution_count": 3,
   "metadata": {},
   "outputs": [
    {
     "name": "stdout",
     "output_type": "stream",
     "text": [
      "       col1      col2\n",
      "0 -0.706402 -1.470064\n",
      "1  0.106894  0.864381\n"
     ]
    }
   ],
   "source": [
    "new_df = df.iloc[0:2, 0:2] # baris 0 sampai 2, kolom 0 sampai 2\n",
    "print(new_df)"
   ]
  },
  {
   "cell_type": "markdown",
   "metadata": {},
   "source": [
    "## Using loc"
   ]
  },
  {
   "cell_type": "code",
   "execution_count": 5,
   "metadata": {},
   "outputs": [
    {
     "name": "stdout",
     "output_type": "stream",
     "text": [
      "       col1      col2\n",
      "0 -0.706402 -1.470064\n",
      "1  0.106894  0.864381\n",
      "2 -0.146991  1.161203\n"
     ]
    }
   ],
   "source": [
    "new_df = df.loc[0:2, 'col1':'col2'] # baris 0 sampai 2, kolom col1 sampai col2\n",
    "print(new_df)"
   ]
  }
 ],
 "metadata": {
  "kernelspec": {
   "display_name": "Python 3",
   "language": "python",
   "name": "python3"
  },
  "language_info": {
   "codemirror_mode": {
    "name": "ipython",
    "version": 3
   },
   "file_extension": ".py",
   "mimetype": "text/x-python",
   "name": "python",
   "nbconvert_exporter": "python",
   "pygments_lexer": "ipython3",
   "version": "3.12.0"
  }
 },
 "nbformat": 4,
 "nbformat_minor": 2
}
