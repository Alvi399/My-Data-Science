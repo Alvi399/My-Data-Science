{
 "cells": [
  {
   "cell_type": "code",
   "execution_count": 1,
   "metadata": {},
   "outputs": [
    {
     "data": {
      "text/html": [
       "<div>\n",
       "<style scoped>\n",
       "    .dataframe tbody tr th:only-of-type {\n",
       "        vertical-align: middle;\n",
       "    }\n",
       "\n",
       "    .dataframe tbody tr th {\n",
       "        vertical-align: top;\n",
       "    }\n",
       "\n",
       "    .dataframe thead th {\n",
       "        text-align: right;\n",
       "    }\n",
       "</style>\n",
       "<table border=\"1\" class=\"dataframe\">\n",
       "  <thead>\n",
       "    <tr style=\"text-align: right;\">\n",
       "      <th></th>\n",
       "      <th>Open</th>\n",
       "      <th>High</th>\n",
       "      <th>Low</th>\n",
       "      <th>Close</th>\n",
       "      <th>Volume</th>\n",
       "    </tr>\n",
       "  </thead>\n",
       "  <tbody>\n",
       "    <tr>\n",
       "      <th>0</th>\n",
       "      <td>153.17</td>\n",
       "      <td>153.33</td>\n",
       "      <td>152.22</td>\n",
       "      <td>153.18</td>\n",
       "      <td>16404088</td>\n",
       "    </tr>\n",
       "    <tr>\n",
       "      <th>1</th>\n",
       "      <td>153.58</td>\n",
       "      <td>155.45</td>\n",
       "      <td>152.89</td>\n",
       "      <td>155.45</td>\n",
       "      <td>27770715</td>\n",
       "    </tr>\n",
       "    <tr>\n",
       "      <th>2</th>\n",
       "      <td>154.34</td>\n",
       "      <td>154.45</td>\n",
       "      <td>153.46</td>\n",
       "      <td>153.93</td>\n",
       "      <td>25331662</td>\n",
       "    </tr>\n",
       "    <tr>\n",
       "      <th>3</th>\n",
       "      <td>153.90</td>\n",
       "      <td>155.81</td>\n",
       "      <td>153.78</td>\n",
       "      <td>154.45</td>\n",
       "      <td>26624926</td>\n",
       "    </tr>\n",
       "    <tr>\n",
       "      <th>4</th>\n",
       "      <td>155.02</td>\n",
       "      <td>155.98</td>\n",
       "      <td>154.48</td>\n",
       "      <td>155.37</td>\n",
       "      <td>21069647</td>\n",
       "    </tr>\n",
       "  </tbody>\n",
       "</table>\n",
       "</div>"
      ],
      "text/plain": [
       "     Open    High     Low   Close    Volume\n",
       "0  153.17  153.33  152.22  153.18  16404088\n",
       "1  153.58  155.45  152.89  155.45  27770715\n",
       "2  154.34  154.45  153.46  153.93  25331662\n",
       "3  153.90  155.81  153.78  154.45  26624926\n",
       "4  155.02  155.98  154.48  155.37  21069647"
      ]
     },
     "execution_count": 1,
     "metadata": {},
     "output_type": "execute_result"
    }
   ],
   "source": [
    "import pandas as pd\n",
    "df = pd.read_csv(\"Dataset/aapl_no_dates.csv\")\n",
    "df.head()"
   ]
  },
  {
   "cell_type": "code",
   "execution_count": 3,
   "metadata": {},
   "outputs": [
    {
     "data": {
      "text/plain": [
       "DatetimeIndex(['2017-06-01', '2017-06-02', '2017-06-05', '2017-06-06',\n",
       "               '2017-06-07', '2017-06-08', '2017-06-09', '2017-06-12',\n",
       "               '2017-06-13', '2017-06-14', '2017-06-15', '2017-06-16',\n",
       "               '2017-06-19', '2017-06-20', '2017-06-21', '2017-06-22',\n",
       "               '2017-06-23', '2017-06-26', '2017-06-27', '2017-06-28',\n",
       "               '2017-06-29', '2017-06-30'],\n",
       "              dtype='datetime64[ns]', freq='B')"
      ]
     },
     "execution_count": 3,
     "metadata": {},
     "output_type": "execute_result"
    }
   ],
   "source": [
    "rng = pd.date_range(start=\"6/1/2017\", end=\"6/30/2017\", freq=\"B\")\n",
    "rng"
   ]
  },
  {
   "cell_type": "markdown",
   "metadata": {},
   "source": [
    "## Using Federal US Holiday Calander"
   ]
  },
  {
   "cell_type": "code",
   "execution_count": 4,
   "metadata": {},
   "outputs": [
    {
     "data": {
      "text/plain": [
       "<CustomBusinessDay>"
      ]
     },
     "execution_count": 4,
     "metadata": {},
     "output_type": "execute_result"
    }
   ],
   "source": [
    "from pandas.tseries.holiday import USFederalHolidayCalendar\n",
    "from pandas.tseries.offsets import CustomBusinessDay\n",
    "\n",
    "usb = CustomBusinessDay(calendar=USFederalHolidayCalendar())\n",
    "usb"
   ]
  },
  {
   "cell_type": "code",
   "execution_count": 5,
   "metadata": {},
   "outputs": [
    {
     "data": {
      "text/plain": [
       "DatetimeIndex(['2017-07-03', '2017-07-05', '2017-07-06', '2017-07-07',\n",
       "               '2017-07-10', '2017-07-11', '2017-07-12', '2017-07-13',\n",
       "               '2017-07-14', '2017-07-17', '2017-07-18', '2017-07-19',\n",
       "               '2017-07-20', '2017-07-21'],\n",
       "              dtype='datetime64[ns]', freq='C')"
      ]
     },
     "execution_count": 5,
     "metadata": {},
     "output_type": "execute_result"
    }
   ],
   "source": [
    "rng = pd.date_range(start=\"7/1/2017\", end=\"7/21/2017\", freq=usb)\n",
    "rng"
   ]
  },
  {
   "cell_type": "markdown",
   "metadata": {},
   "source": [
    "## Custom calander"
   ]
  },
  {
   "cell_type": "code",
   "execution_count": 6,
   "metadata": {},
   "outputs": [
    {
     "data": {
      "text/plain": [
       "<CustomBusinessDay>"
      ]
     },
     "execution_count": 6,
     "metadata": {},
     "output_type": "execute_result"
    }
   ],
   "source": [
    "from pandas.tseries.holiday import AbstractHolidayCalendar, nearest_workday, Holiday\n",
    "class myBirthdayCalendar(AbstractHolidayCalendar):\n",
    "    rules = [\n",
    "        Holiday('My Birthday', month=8, day=25, observance=nearest_workday)\n",
    "    ]\n",
    "\n",
    "myc = CustomBusinessDay(calendar=myBirthdayCalendar()) #parameter calender berfungsi untuk memanggil class myBirthdayCalendar\n",
    "myc\n"
   ]
  },
  {
   "cell_type": "code",
   "execution_count": 7,
   "metadata": {},
   "outputs": [
    {
     "data": {
      "text/plain": [
       "DatetimeIndex(['2017-07-03', '2017-07-04', '2017-07-05', '2017-07-06',\n",
       "               '2017-07-07', '2017-07-10', '2017-07-11', '2017-07-12',\n",
       "               '2017-07-13', '2017-07-14', '2017-07-17', '2017-07-18',\n",
       "               '2017-07-19', '2017-07-20', '2017-07-21', '2017-07-24',\n",
       "               '2017-07-25', '2017-07-26', '2017-07-27', '2017-07-28',\n",
       "               '2017-07-31', '2017-08-01', '2017-08-02'],\n",
       "              dtype='datetime64[ns]', freq='C')"
      ]
     },
     "execution_count": 7,
     "metadata": {},
     "output_type": "execute_result"
    }
   ],
   "source": [
    "rng = pd.date_range(start=\"7/1/2017\", end=\"8/2/2017\", freq=myc)\n",
    "rng"
   ]
  },
  {
   "cell_type": "code",
   "execution_count": 9,
   "metadata": {},
   "outputs": [
    {
     "data": {
      "text/plain": [
       "DatetimeIndex(['2017-07-03', '2017-07-04', '2017-07-05', '2017-07-06',\n",
       "               '2017-07-09', '2017-07-10', '2017-07-11', '2017-07-12',\n",
       "               '2017-07-13', '2017-07-16', '2017-07-17', '2017-07-18',\n",
       "               '2017-07-19', '2017-07-20'],\n",
       "              dtype='datetime64[ns]', freq='C')"
      ]
     },
     "execution_count": 9,
     "metadata": {},
     "output_type": "execute_result"
    }
   ],
   "source": [
    "b = CustomBusinessDay(weekmask='Sun Mon Tue Wed Thu',holidays=[\"2017-07-02\"]) #weekmask berfungsi untuk menentukan hari apa saja yang akan dijadikan hari kerja\n",
    "rng = pd.date_range(start=\"7/1/2017\", end=\"7/21/2017\", freq=b)\n",
    "rng"
   ]
  }
 ],
 "metadata": {
  "kernelspec": {
   "display_name": "Python 3",
   "language": "python",
   "name": "python3"
  },
  "language_info": {
   "codemirror_mode": {
    "name": "ipython",
    "version": 3
   },
   "file_extension": ".py",
   "mimetype": "text/x-python",
   "name": "python",
   "nbconvert_exporter": "python",
   "pygments_lexer": "ipython3",
   "version": "3.12.0"
  }
 },
 "nbformat": 4,
 "nbformat_minor": 2
}
