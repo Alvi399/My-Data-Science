{
 "cells": [
  {
   "cell_type": "markdown",
   "metadata": {},
   "source": [
    "## Definisi"
   ]
  },
  {
   "cell_type": "code",
   "execution_count": null,
   "metadata": {},
   "outputs": [],
   "source": [
    "\"\"\"\n",
    "Statiska (statics):\n",
    "1. Pengumpulan (collection)\n",
    "2. Pengolahan (processing)\n",
    "3. Analisis (analysis)\n",
    "4. Interpretasi (interpretation)\n",
    "\n",
    "Data (data):\n",
    "1. Pengamatan (observation)\n",
    "2. Perhitungan (calculation)\n",
    "3. Pengukuran (measurement)\n",
    "4. Reponsif (responsive)\n",
    "\"\"\""
   ]
  },
  {
   "cell_type": "markdown",
   "metadata": {},
   "source": [
    "## Populasi dan Sempel"
   ]
  },
  {
   "cell_type": "code",
   "execution_count": null,
   "metadata": {},
   "outputs": [],
   "source": [
    "\"\"\"\n",
    "Populasi (population):\n",
    "kumpulan dari kesuluruhan pengamatan yang memiliki karakteristik yang sama\n",
    "\n",
    "Sampel (sample):\n",
    "kumpulan dari sebagian pengamatan yang diambil dari populasi\n",
    "\"\"\""
   ]
  },
  {
   "cell_type": "markdown",
   "metadata": {},
   "source": [
    "## Parameter Statistic"
   ]
  },
  {
   "cell_type": "code",
   "execution_count": null,
   "metadata": {},
   "outputs": [],
   "source": [
    "\"\"\"\n",
    "Parameter (parameter):\n",
    "karakteristik dari populasi\n",
    "\n",
    "Static (statistic):\n",
    "karakteristik dari sampel\n",
    "\"\"\""
   ]
  },
  {
   "cell_type": "markdown",
   "metadata": {},
   "source": [
    "## Inferential dan Deskriptif"
   ]
  },
  {
   "cell_type": "code",
   "execution_count": null,
   "metadata": {},
   "outputs": [],
   "source": [
    "\"\"\"\n",
    "Inferential Statistics:\n",
    "adalah teknik statistik yang digunakan untuk membuat kesimpulan tentang populasi berdasarkan sampel\n",
    "\n",
    "Descriptive Statistics:\n",
    "adalah teknik statistik yang digunakan untuk menggambarkan dan meringkas data\n",
    "\"\"\""
   ]
  }
 ],
 "metadata": {
  "language_info": {
   "name": "python"
  }
 },
 "nbformat": 4,
 "nbformat_minor": 2
}
