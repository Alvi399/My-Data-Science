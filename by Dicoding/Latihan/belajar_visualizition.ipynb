{
 "cells": [
  {
   "cell_type": "code",
   "execution_count": 3,
   "metadata": {},
   "outputs": [],
   "source": [
    "import numpy as np\n",
    "import pandas as pd\n",
    "import matplotlib.pyplot as plt\n",
    "from scipy import stats"
   ]
  },
  {
   "cell_type": "code",
   "execution_count": 4,
   "metadata": {},
   "outputs": [],
   "source": [
    "\n",
    "jumlah_kucing = np.array([3, 2, 1, 1, 2, 3, 2, 1, 0, 2])\n",
    "rata_rata = jumlah_kucing.mean()\n",
    "median = np.median(jumlah_kucing)\n",
    "modus = stats.mode(jumlah_kucing)"
   ]
  },
  {
   "cell_type": "code",
   "execution_count": null,
   "metadata": {},
   "outputs": [],
   "source": [
    "#Range\n",
    "#berfungsi untuk mencari jangkaun yaitu jarak antara nilai maksimum dan minimum\n",
    "range = jumlah_kucing.max() - jumlah_kucing.min()\n",
    "print(range)\n",
    "\n",
    "#Interquartile Range\n",
    "# Interquartile Range atau sering disingkat IQR merupakan parameter statistik yang menggambarkan selisih antara kuartil ketiga (Q3) dan kuartil pertama (Q1).\n",
    "iqr = np.percentile(jumlah_kucing,75) - np.percentile(jumlah_kucing,25)\n",
    "print(iqr)\n",
    "\n",
    "#Veries\n",
    "# Selain range dan IQR, sebaran dari suatu data juga dapat direpresentasikan menggunakan parameter variance. Ia merupakan parameter yang digunakan untuk menggambarkan besar simpangan suatu titik data dari nilai mean-nya. \n",
    "series = pd.Series(jumlah_kucing)\n",
    "series.var()\n",
    "\n",
    "#Standar Deviasi\n",
    "standar_deviasi = series.std()"
   ]
  },
  {
   "cell_type": "code",
   "execution_count": null,
   "metadata": {},
   "outputs": [],
   "source": [
    "#Distribusi Data\n",
    "plt.hist(jumlah_kucing,bins=4)\n",
    "plt.show()\n",
    "#Skew\n",
    "series.skew()"
   ]
  },
  {
   "cell_type": "code",
   "execution_count": null,
   "metadata": {},
   "outputs": [],
   "source": [
    "#Data Relationship\n",
    "#Corellation\n",
    "sample_data = {\n",
    "    'name': ['John', 'Alia', 'Ananya', 'Steve', 'Ben'],\n",
    "    'age': [24, 22, 23, 25, 28],  \n",
    "    'communication_skill_score': [85, 70, 75, 90, 90],\n",
    "    'quantitative_skill_score': [80, 90, 80, 75, 70]\n",
    "}\n",
    "df = pd.DataFrame(sample_data)\n",
    "df.corr(numeric_only=True)\n"
   ]
  },
  {
   "cell_type": "code",
   "execution_count": null,
   "metadata": {},
   "outputs": [],
   "source": [
    "#Covariance\n",
    "df.cov(numeric_only=True)"
   ]
  },
  {
   "cell_type": "code",
   "execution_count": 4,
   "metadata": {},
   "outputs": [
    {
     "data": {
      "text/html": [
       "<div>\n",
       "<style scoped>\n",
       "    .dataframe tbody tr th:only-of-type {\n",
       "        vertical-align: middle;\n",
       "    }\n",
       "\n",
       "    .dataframe tbody tr th {\n",
       "        vertical-align: top;\n",
       "    }\n",
       "\n",
       "    .dataframe thead th {\n",
       "        text-align: right;\n",
       "    }\n",
       "</style>\n",
       "<table border=\"1\" class=\"dataframe\">\n",
       "  <thead>\n",
       "    <tr style=\"text-align: right;\">\n",
       "      <th></th>\n",
       "      <th>work_year</th>\n",
       "      <th>experience_level</th>\n",
       "      <th>employment_type</th>\n",
       "      <th>job_title</th>\n",
       "      <th>salary</th>\n",
       "      <th>salary_currency</th>\n",
       "      <th>salary_in_usd</th>\n",
       "      <th>employee_residence</th>\n",
       "      <th>remote_ratio</th>\n",
       "      <th>company_location</th>\n",
       "      <th>company_size</th>\n",
       "    </tr>\n",
       "  </thead>\n",
       "  <tbody>\n",
       "    <tr>\n",
       "      <th>0</th>\n",
       "      <td>2023</td>\n",
       "      <td>EX</td>\n",
       "      <td>FT</td>\n",
       "      <td>Information Security Officer</td>\n",
       "      <td>160000</td>\n",
       "      <td>USD</td>\n",
       "      <td>160000</td>\n",
       "      <td>US</td>\n",
       "      <td>100</td>\n",
       "      <td>US</td>\n",
       "      <td>M</td>\n",
       "    </tr>\n",
       "    <tr>\n",
       "      <th>1</th>\n",
       "      <td>2023</td>\n",
       "      <td>EX</td>\n",
       "      <td>FT</td>\n",
       "      <td>Information Security Officer</td>\n",
       "      <td>100000</td>\n",
       "      <td>USD</td>\n",
       "      <td>100000</td>\n",
       "      <td>US</td>\n",
       "      <td>100</td>\n",
       "      <td>US</td>\n",
       "      <td>M</td>\n",
       "    </tr>\n",
       "    <tr>\n",
       "      <th>2</th>\n",
       "      <td>2023</td>\n",
       "      <td>SE</td>\n",
       "      <td>FT</td>\n",
       "      <td>Security Engineer</td>\n",
       "      <td>247250</td>\n",
       "      <td>USD</td>\n",
       "      <td>247250</td>\n",
       "      <td>US</td>\n",
       "      <td>0</td>\n",
       "      <td>US</td>\n",
       "      <td>M</td>\n",
       "    </tr>\n",
       "    <tr>\n",
       "      <th>3</th>\n",
       "      <td>2023</td>\n",
       "      <td>SE</td>\n",
       "      <td>FT</td>\n",
       "      <td>Security Engineer</td>\n",
       "      <td>160000</td>\n",
       "      <td>USD</td>\n",
       "      <td>160000</td>\n",
       "      <td>US</td>\n",
       "      <td>0</td>\n",
       "      <td>US</td>\n",
       "      <td>M</td>\n",
       "    </tr>\n",
       "    <tr>\n",
       "      <th>4</th>\n",
       "      <td>2023</td>\n",
       "      <td>SE</td>\n",
       "      <td>FT</td>\n",
       "      <td>Security Engineer</td>\n",
       "      <td>224250</td>\n",
       "      <td>USD</td>\n",
       "      <td>224250</td>\n",
       "      <td>US</td>\n",
       "      <td>0</td>\n",
       "      <td>US</td>\n",
       "      <td>M</td>\n",
       "    </tr>\n",
       "  </tbody>\n",
       "</table>\n",
       "</div>"
      ],
      "text/plain": [
       "   work_year experience_level employment_type                     job_title  \\\n",
       "0       2023               EX              FT  Information Security Officer   \n",
       "1       2023               EX              FT  Information Security Officer   \n",
       "2       2023               SE              FT             Security Engineer   \n",
       "3       2023               SE              FT             Security Engineer   \n",
       "4       2023               SE              FT             Security Engineer   \n",
       "\n",
       "   salary salary_currency  salary_in_usd employee_residence  remote_ratio  \\\n",
       "0  160000             USD         160000                 US           100   \n",
       "1  100000             USD         100000                 US           100   \n",
       "2  247250             USD         247250                 US             0   \n",
       "3  160000             USD         160000                 US             0   \n",
       "4  224250             USD         224250                 US             0   \n",
       "\n",
       "  company_location company_size  \n",
       "0               US            M  \n",
       "1               US            M  \n",
       "2               US            M  \n",
       "3               US            M  \n",
       "4               US            M  "
      ]
     },
     "execution_count": 4,
     "metadata": {},
     "output_type": "execute_result"
    }
   ],
   "source": [
    "proudct_df = pd.read_csv(\"salaries.csv\",delimiter=\",\")\n",
    "proudct_df.head()"
   ]
  },
  {
   "cell_type": "code",
   "execution_count": 4,
   "metadata": {},
   "outputs": [
    {
     "data": {
      "text/plain": [
       "1402"
      ]
     },
     "execution_count": 4,
     "metadata": {},
     "output_type": "execute_result"
    }
   ],
   "source": [
    "df.duplicated().sum()"
   ]
  },
  {
   "cell_type": "code",
   "execution_count": 5,
   "metadata": {},
   "outputs": [],
   "source": [
    "#Outliners\n",
    "q25, q75 = np.percentile(jumlah_kucing,25), np.percentile(jumlah_kucing,75)\n",
    "iqr = q75 - q25\n",
    "cut_off = iqr*1.5\n",
    "minimum,maksimum = q25 - cut_off,q75 + cut_off\n",
    "outliers = [x for x in jumlah_kucing if x < minimum or x > maksimum]\n",
    "\n"
   ]
  },
  {
   "cell_type": "markdown",
   "metadata": {},
   "source": [
    "CLEANING DATA"
   ]
  },
  {
   "cell_type": "code",
   "execution_count": null,
   "metadata": {},
   "outputs": [],
   "source": [
    "#define\n",
    "#Metode pertama dan yang paling mudah dalam mengatasi missing value adalah dropping.\n",
    "proudct_df.dropna(axis=0,inplace=True)\n",
    "display(proudct_df)"
   ]
  },
  {
   "cell_type": "code",
   "execution_count": 5,
   "metadata": {},
   "outputs": [],
   "source": [
    "#imputation\n",
    "#Metode ini bekerja dengan cara mengisi (fill) missing value dengan nilai tertentu\n",
    "proudct_df.fillna(value=proudct_df.work_year,inplace=True)"
   ]
  },
  {
   "cell_type": "code",
   "execution_count": 6,
   "metadata": {},
   "outputs": [],
   "source": [
    "#Interpolation\n",
    "#Metode penanganan missing value terakhir yang akan kita bahas ialah interpolation (interpolasi). Sederhananya, \n",
    "#interpolasi merupakan salah satu pendekatan numerik yang digunakan untuk menghitung titik data baru berdasarkan range data yang sudah ada.\n",
    "proudct_df.work_year.interpolate(method='linier',limit_direction='forward',inplace=True)"
   ]
  },
  {
   "cell_type": "code",
   "execution_count": 7,
   "metadata": {},
   "outputs": [],
   "source": [
    "#Duplicate Data\n",
    "proudct_df.drop_duplicates(inplace=True)"
   ]
  },
  {
   "cell_type": "code",
   "execution_count": 11,
   "metadata": {},
   "outputs": [],
   "source": [
    "#Outlier - Drop \n",
    "#Metode pertama yang paling mudah ialah men-drop atau menghapus seluruh baris yang mengandung outlier. \n",
    "Q1 = (proudct_df['salary']).quantile(0.25)\n",
    "Q3 = (proudct_df['salary']).quantile(0.75)\n",
    "IQR = Q3 - Q1\n",
    "max = Q3 + (1.5*IQR)\n",
    "min = Q1 - (1.5*IQR)\n",
    "kondisi_lower = proudct_df['salary'] < min\n",
    "kodisi_more = proudct_df['salary'] > max\n",
    "proudct_df.drop(proudct_df[kondisi_lower].index,inplace=True)\n",
    "proudct_df.drop(proudct_df[kodisi_more].index,inplace=True)\n"
   ]
  },
  {
   "cell_type": "code",
   "execution_count": 1,
   "metadata": {},
   "outputs": [
    {
     "ename": "SyntaxError",
     "evalue": "positional argument follows keyword argument (555910009.py, line 2)",
     "output_type": "error",
     "traceback": [
      "\u001b[1;36m  Cell \u001b[1;32mIn[1], line 2\u001b[1;36m\u001b[0m\n\u001b[1;33m    proudct_df.mask(cond=kondisi_lower,min,axis=1,inplace=True)\u001b[0m\n\u001b[1;37m                                                              ^\u001b[0m\n\u001b[1;31mSyntaxError\u001b[0m\u001b[1;31m:\u001b[0m positional argument follows keyword argument\n"
     ]
    }
   ],
   "source": [
    "#Outlier - Imputation\n",
    "proudct_df.mask(cond=kondisi_lower,min,axis=1,inplace=True)\n",
    "proudct_df.mask(cond=kodisi_more,max,axis=1,inplace=True)"
   ]
  }
 ],
 "metadata": {
  "kernelspec": {
   "display_name": "Python 3",
   "language": "python",
   "name": "python3"
  },
  "language_info": {
   "codemirror_mode": {
    "name": "ipython",
    "version": 3
   },
   "file_extension": ".py",
   "mimetype": "text/x-python",
   "name": "python",
   "nbconvert_exporter": "python",
   "pygments_lexer": "ipython3",
   "version": "3.12.0"
  }
 },
 "nbformat": 4,
 "nbformat_minor": 2
}
